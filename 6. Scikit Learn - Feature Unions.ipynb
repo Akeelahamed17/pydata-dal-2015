{
 "metadata": {
  "name": "",
  "signature": "sha256:c72552bbcf7565086dea9571eebed23e3575fcce364add361222825a926e880c"
 },
 "nbformat": 3,
 "nbformat_minor": 0,
 "worksheets": [
  {
   "cells": [
    {
     "cell_type": "markdown",
     "metadata": {},
     "source": [
      "Pipeline is generally laid out as sequential steps and this is not a coincidence. Generally, feature extractor, feature selector and classifiers are applied in a consecutive manner for a supervised learning problem. In feature extraction, some may want to first extract bag-of-words then weight by Tf-Idf to improve the feature extractor. However, there could be also cases that some may want to __concatenate__ the features rather than applying as sequential steps. \n",
      "\n",
      "`FeatureUnion` class aims to solve this problem. You could combine different feature extractor outputs independently into a single feature matrix and then use it. This is quite useful for a number of reasons; first it works just like `pipeline`, you could give a tuple where one of the arguments is estimator name and other estimator itself. Second, the object could be used as a step in the `pipeline`, so it is very easy to use. Third, it allows you to experiment different feature extractor methods and possbily use them if you have a good feature selector method. Last but not least, it allows you to abstract the feature extraction step in a single step even if the features you aggregate could vary a lot. It does multiple feature extraction operations in parallel, so if you have multi-cores, you are in luck in terms of processing time."
     ]
    },
    {
     "cell_type": "code",
     "collapsed": false,
     "input": [],
     "language": "python",
     "metadata": {},
     "outputs": []
    }
   ],
   "metadata": {}
  }
 ]
}