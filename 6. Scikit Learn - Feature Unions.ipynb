{
 "metadata": {
  "name": "",
  "signature": "sha256:5effa860b8c4eb04e421c6a602aff7814b4b844743972b44159fc95c1e94fc46"
 },
 "nbformat": 3,
 "nbformat_minor": 0,
 "worksheets": [
  {
   "cells": [
    {
     "cell_type": "markdown",
     "metadata": {},
     "source": [
      "Pipeline is generally laid out as sequential steps and this is not a coincidence. Generally, feature extractor, feature selector and classifiers are applied in a consecutive manner for a supervised learning problem. In feature extraction, some may want to first extract bag-of-words then weight by Tf-Idf to improve the feature extractor. However, there could be also cases that some may want to __concatenate__ the features rather than applying as sequential steps. \n",
      "\n",
      "`FeatureUnion` class aims to solve this problem. You could combine different feature extractor outputs independently into a single feature matrix and then use it. This is quite useful for a number of reasons; first it works just like `pipeline`, you could give a tuple where one of the arguments is estimator name and other estimator itself. Second, the object could be used as a step in the `pipeline`, so it is very easy to use. Third, it allows you to experiment different feature extractor methods and possbily use them if you have a good feature selector method. Last but not least, it allows you to abstract the feature extraction step in a single step even if the features you aggregate could vary a lot. It does multiple feature extraction operations in parallel, so if you have multi-cores, you are in luck in terms of processing time."
     ]
    },
    {
     "cell_type": "code",
     "collapsed": false,
     "input": [
      "%matplotlib inline\n",
      "\n",
      "import matplotlib.pyplot as plt\n",
      "import numpy as np\n",
      "import os\n",
      "import pandas as pd\n",
      "import seaborn as sns\n",
      "from sklearn import cross_validation\n",
      "from sklearn import decomposition\n",
      "from sklearn import ensemble\n",
      "from sklearn import feature_selection\n",
      "from sklearn import linear_model\n",
      "from sklearn import pipeline\n",
      "from sklearn import preprocessing\n",
      "\n",
      "DATA_DIR = 'data'\n",
      "BANK_DIR = os.path.join(DATA_DIR, 'bank')\n",
      "BANK_FULL_PATH = os.path.join(BANK_DIR, 'bank-full.csv')\n",
      "EXPLANATION_PATH = os.path.join(BANK_DIR, 'bank-names.txt')"
     ],
     "language": "python",
     "metadata": {},
     "outputs": [],
     "prompt_number": 1
    },
    {
     "cell_type": "code",
     "collapsed": false,
     "input": [
      "with open(EXPLANATION_PATH) as f:\n",
      "    explanation = f.readlines()\n",
      "explanation = '\\n'.join(explanation)    "
     ],
     "language": "python",
     "metadata": {},
     "outputs": [],
     "prompt_number": 2
    },
    {
     "cell_type": "code",
     "collapsed": false,
     "input": [
      "print(explanation)"
     ],
     "language": "python",
     "metadata": {},
     "outputs": [
      {
       "output_type": "stream",
       "stream": "stdout",
       "text": [
        "Citation Request:\r\n",
        "\n",
        "  This dataset is public available for research. The details are described in [Moro et al., 2011]. \r\n",
        "\n",
        "  Please include this citation if you plan to use this database:\r\n",
        "\n",
        "\r\n",
        "\n",
        "  [Moro et al., 2011] S. Moro, R. Laureano and P. Cortez. Using Data Mining for Bank Direct Marketing: An Application of the CRISP-DM Methodology. \r\n",
        "\n",
        "  In P. Novais et al. (Eds.), Proceedings of the European Simulation and Modelling Conference - ESM'2011, pp. 117-121, Guimar\u00e3es, Portugal, October, 2011. EUROSIS.\r\n",
        "\n",
        "\r\n",
        "\n",
        "  Available at: [pdf] http://hdl.handle.net/1822/14838\r\n",
        "\n",
        "                [bib] http://www3.dsi.uminho.pt/pcortez/bib/2011-esm-1.txt\r\n",
        "\n",
        "\r\n",
        "\n",
        "1. Title: Bank Marketing\r\n",
        "\n",
        "\r\n",
        "\n",
        "2. Sources\r\n",
        "\n",
        "   Created by: Paulo Cortez (Univ. Minho) and S\u00e9rgio Moro (ISCTE-IUL) @ 2012\r\n",
        "\n",
        "   \r\n",
        "\n",
        "3. Past Usage:\r\n",
        "\n",
        "\r\n",
        "\n",
        "  The full dataset was described and analyzed in:\r\n",
        "\n",
        "\r\n",
        "\n",
        "  S. Moro, R. Laureano and P. Cortez. Using Data Mining for Bank Direct Marketing: An Application of the CRISP-DM Methodology. \r\n",
        "\n",
        "  In P. Novais et al. (Eds.), Proceedings of the European Simulation and Modelling Conference - ESM'2011, pp. 117-121, Guimar\u00e3es, \r\n",
        "\n",
        "  Portugal, October, 2011. EUROSIS.\r\n",
        "\n",
        "\r\n",
        "\n",
        "4. Relevant Information:\r\n",
        "\n",
        "\r\n",
        "\n",
        "   The data is related with direct marketing campaigns of a Portuguese banking institution. \r\n",
        "\n",
        "   The marketing campaigns were based on phone calls. Often, more than one contact to the same client was required, \r\n",
        "\n",
        "   in order to access if the product (bank term deposit) would be (or not) subscribed. \r\n",
        "\n",
        "\r\n",
        "\n",
        "   There are two datasets: \r\n",
        "\n",
        "      1) bank-full.csv with all examples, ordered by date (from May 2008 to November 2010).\r\n",
        "\n",
        "      2) bank.csv with 10% of the examples (4521), randomly selected from bank-full.csv.\r\n",
        "\n",
        "   The smallest dataset is provided to test more computationally demanding machine learning algorithms (e.g. SVM).\r\n",
        "\n",
        "\r\n",
        "\n",
        "   The classification goal is to predict if the client will subscribe a term deposit (variable y).\r\n",
        "\n",
        "\r\n",
        "\n",
        "5. Number of Instances: 45211 for bank-full.csv (4521 for bank.csv)\r\n",
        "\n",
        "\r\n",
        "\n",
        "6. Number of Attributes: 16 + output attribute.\r\n",
        "\n",
        "\r\n",
        "\n",
        "7. Attribute information:\r\n",
        "\n",
        "\r\n",
        "\n",
        "   For more information, read [Moro et al., 2011].\r\n",
        "\n",
        "\r\n",
        "\n",
        "   Input variables:\r\n",
        "\n",
        "   # bank client data:\r\n",
        "\n",
        "   1 - age (numeric)\r\n",
        "\n",
        "   2 - job : type of job (categorical: \"admin.\",\"unknown\",\"unemployed\",\"management\",\"housemaid\",\"entrepreneur\",\"student\",\r\n",
        "\n",
        "                                       \"blue-collar\",\"self-employed\",\"retired\",\"technician\",\"services\") \r\n",
        "\n",
        "   3 - marital : marital status (categorical: \"married\",\"divorced\",\"single\"; note: \"divorced\" means divorced or widowed)\r\n",
        "\n",
        "   4 - education (categorical: \"unknown\",\"secondary\",\"primary\",\"tertiary\")\r\n",
        "\n",
        "   5 - default: has credit in default? (binary: \"yes\",\"no\")\r\n",
        "\n",
        "   6 - balance: average yearly balance, in euros (numeric) \r\n",
        "\n",
        "   7 - housing: has housing loan? (binary: \"yes\",\"no\")\r\n",
        "\n",
        "   8 - loan: has personal loan? (binary: \"yes\",\"no\")\r\n",
        "\n",
        "   # related with the last contact of the current campaign:\r\n",
        "\n",
        "   9 - contact: contact communication type (categorical: \"unknown\",\"telephone\",\"cellular\") \r\n",
        "\n",
        "  10 - day: last contact day of the month (numeric)\r\n",
        "\n",
        "  11 - month: last contact month of year (categorical: \"jan\", \"feb\", \"mar\", ..., \"nov\", \"dec\")\r\n",
        "\n",
        "  12 - duration: last contact duration, in seconds (numeric)\r\n",
        "\n",
        "   # other attributes:\r\n",
        "\n",
        "  13 - campaign: number of contacts performed during this campaign and for this client (numeric, includes last contact)\r\n",
        "\n",
        "  14 - pdays: number of days that passed by after the client was last contacted from a previous campaign (numeric, -1 means client was not previously contacted)\r\n",
        "\n",
        "  15 - previous: number of contacts performed before this campaign and for this client (numeric)\r\n",
        "\n",
        "  16 - poutcome: outcome of the previous marketing campaign (categorical: \"unknown\",\"other\",\"failure\",\"success\")\r\n",
        "\n",
        "\r\n",
        "\n",
        "  Output variable (desired target):\r\n",
        "\n",
        "  17 - y - has the client subscribed a term deposit? (binary: \"yes\",\"no\")\r\n",
        "\n",
        "\r\n",
        "\n",
        "8. Missing Attribute Values: None\r\n",
        "\n"
       ]
      }
     ],
     "prompt_number": 3
    },
    {
     "cell_type": "code",
     "collapsed": false,
     "input": [
      "df = pd.read_csv(BANK_FULL_PATH, delimiter=';')\n",
      "df.head(10)"
     ],
     "language": "python",
     "metadata": {},
     "outputs": [
      {
       "html": [
        "<div style=\"max-height:1000px;max-width:1500px;overflow:auto;\">\n",
        "<table border=\"1\" class=\"dataframe\">\n",
        "  <thead>\n",
        "    <tr style=\"text-align: right;\">\n",
        "      <th></th>\n",
        "      <th>age</th>\n",
        "      <th>job</th>\n",
        "      <th>marital</th>\n",
        "      <th>education</th>\n",
        "      <th>default</th>\n",
        "      <th>balance</th>\n",
        "      <th>housing</th>\n",
        "      <th>loan</th>\n",
        "      <th>contact</th>\n",
        "      <th>day</th>\n",
        "      <th>month</th>\n",
        "      <th>duration</th>\n",
        "      <th>campaign</th>\n",
        "      <th>pdays</th>\n",
        "      <th>previous</th>\n",
        "      <th>poutcome</th>\n",
        "      <th>y</th>\n",
        "    </tr>\n",
        "  </thead>\n",
        "  <tbody>\n",
        "    <tr>\n",
        "      <th>0</th>\n",
        "      <td> 58</td>\n",
        "      <td>   management</td>\n",
        "      <td>  married</td>\n",
        "      <td>  tertiary</td>\n",
        "      <td>  no</td>\n",
        "      <td> 2143</td>\n",
        "      <td> yes</td>\n",
        "      <td>  no</td>\n",
        "      <td> unknown</td>\n",
        "      <td> 5</td>\n",
        "      <td> may</td>\n",
        "      <td> 261</td>\n",
        "      <td> 1</td>\n",
        "      <td>-1</td>\n",
        "      <td> 0</td>\n",
        "      <td> unknown</td>\n",
        "      <td> no</td>\n",
        "    </tr>\n",
        "    <tr>\n",
        "      <th>1</th>\n",
        "      <td> 44</td>\n",
        "      <td>   technician</td>\n",
        "      <td>   single</td>\n",
        "      <td> secondary</td>\n",
        "      <td>  no</td>\n",
        "      <td>   29</td>\n",
        "      <td> yes</td>\n",
        "      <td>  no</td>\n",
        "      <td> unknown</td>\n",
        "      <td> 5</td>\n",
        "      <td> may</td>\n",
        "      <td> 151</td>\n",
        "      <td> 1</td>\n",
        "      <td>-1</td>\n",
        "      <td> 0</td>\n",
        "      <td> unknown</td>\n",
        "      <td> no</td>\n",
        "    </tr>\n",
        "    <tr>\n",
        "      <th>2</th>\n",
        "      <td> 33</td>\n",
        "      <td> entrepreneur</td>\n",
        "      <td>  married</td>\n",
        "      <td> secondary</td>\n",
        "      <td>  no</td>\n",
        "      <td>    2</td>\n",
        "      <td> yes</td>\n",
        "      <td> yes</td>\n",
        "      <td> unknown</td>\n",
        "      <td> 5</td>\n",
        "      <td> may</td>\n",
        "      <td>  76</td>\n",
        "      <td> 1</td>\n",
        "      <td>-1</td>\n",
        "      <td> 0</td>\n",
        "      <td> unknown</td>\n",
        "      <td> no</td>\n",
        "    </tr>\n",
        "    <tr>\n",
        "      <th>3</th>\n",
        "      <td> 47</td>\n",
        "      <td>  blue-collar</td>\n",
        "      <td>  married</td>\n",
        "      <td>   unknown</td>\n",
        "      <td>  no</td>\n",
        "      <td> 1506</td>\n",
        "      <td> yes</td>\n",
        "      <td>  no</td>\n",
        "      <td> unknown</td>\n",
        "      <td> 5</td>\n",
        "      <td> may</td>\n",
        "      <td>  92</td>\n",
        "      <td> 1</td>\n",
        "      <td>-1</td>\n",
        "      <td> 0</td>\n",
        "      <td> unknown</td>\n",
        "      <td> no</td>\n",
        "    </tr>\n",
        "    <tr>\n",
        "      <th>4</th>\n",
        "      <td> 33</td>\n",
        "      <td>      unknown</td>\n",
        "      <td>   single</td>\n",
        "      <td>   unknown</td>\n",
        "      <td>  no</td>\n",
        "      <td>    1</td>\n",
        "      <td>  no</td>\n",
        "      <td>  no</td>\n",
        "      <td> unknown</td>\n",
        "      <td> 5</td>\n",
        "      <td> may</td>\n",
        "      <td> 198</td>\n",
        "      <td> 1</td>\n",
        "      <td>-1</td>\n",
        "      <td> 0</td>\n",
        "      <td> unknown</td>\n",
        "      <td> no</td>\n",
        "    </tr>\n",
        "    <tr>\n",
        "      <th>5</th>\n",
        "      <td> 35</td>\n",
        "      <td>   management</td>\n",
        "      <td>  married</td>\n",
        "      <td>  tertiary</td>\n",
        "      <td>  no</td>\n",
        "      <td>  231</td>\n",
        "      <td> yes</td>\n",
        "      <td>  no</td>\n",
        "      <td> unknown</td>\n",
        "      <td> 5</td>\n",
        "      <td> may</td>\n",
        "      <td> 139</td>\n",
        "      <td> 1</td>\n",
        "      <td>-1</td>\n",
        "      <td> 0</td>\n",
        "      <td> unknown</td>\n",
        "      <td> no</td>\n",
        "    </tr>\n",
        "    <tr>\n",
        "      <th>6</th>\n",
        "      <td> 28</td>\n",
        "      <td>   management</td>\n",
        "      <td>   single</td>\n",
        "      <td>  tertiary</td>\n",
        "      <td>  no</td>\n",
        "      <td>  447</td>\n",
        "      <td> yes</td>\n",
        "      <td> yes</td>\n",
        "      <td> unknown</td>\n",
        "      <td> 5</td>\n",
        "      <td> may</td>\n",
        "      <td> 217</td>\n",
        "      <td> 1</td>\n",
        "      <td>-1</td>\n",
        "      <td> 0</td>\n",
        "      <td> unknown</td>\n",
        "      <td> no</td>\n",
        "    </tr>\n",
        "    <tr>\n",
        "      <th>7</th>\n",
        "      <td> 42</td>\n",
        "      <td> entrepreneur</td>\n",
        "      <td> divorced</td>\n",
        "      <td>  tertiary</td>\n",
        "      <td> yes</td>\n",
        "      <td>    2</td>\n",
        "      <td> yes</td>\n",
        "      <td>  no</td>\n",
        "      <td> unknown</td>\n",
        "      <td> 5</td>\n",
        "      <td> may</td>\n",
        "      <td> 380</td>\n",
        "      <td> 1</td>\n",
        "      <td>-1</td>\n",
        "      <td> 0</td>\n",
        "      <td> unknown</td>\n",
        "      <td> no</td>\n",
        "    </tr>\n",
        "    <tr>\n",
        "      <th>8</th>\n",
        "      <td> 58</td>\n",
        "      <td>      retired</td>\n",
        "      <td>  married</td>\n",
        "      <td>   primary</td>\n",
        "      <td>  no</td>\n",
        "      <td>  121</td>\n",
        "      <td> yes</td>\n",
        "      <td>  no</td>\n",
        "      <td> unknown</td>\n",
        "      <td> 5</td>\n",
        "      <td> may</td>\n",
        "      <td>  50</td>\n",
        "      <td> 1</td>\n",
        "      <td>-1</td>\n",
        "      <td> 0</td>\n",
        "      <td> unknown</td>\n",
        "      <td> no</td>\n",
        "    </tr>\n",
        "    <tr>\n",
        "      <th>9</th>\n",
        "      <td> 43</td>\n",
        "      <td>   technician</td>\n",
        "      <td>   single</td>\n",
        "      <td> secondary</td>\n",
        "      <td>  no</td>\n",
        "      <td>  593</td>\n",
        "      <td> yes</td>\n",
        "      <td>  no</td>\n",
        "      <td> unknown</td>\n",
        "      <td> 5</td>\n",
        "      <td> may</td>\n",
        "      <td>  55</td>\n",
        "      <td> 1</td>\n",
        "      <td>-1</td>\n",
        "      <td> 0</td>\n",
        "      <td> unknown</td>\n",
        "      <td> no</td>\n",
        "    </tr>\n",
        "  </tbody>\n",
        "</table>\n",
        "</div>"
       ],
       "metadata": {},
       "output_type": "pyout",
       "prompt_number": 4,
       "text": [
        "   age           job   marital  education default  balance housing loan  \\\n",
        "0   58    management   married   tertiary      no     2143     yes   no   \n",
        "1   44    technician    single  secondary      no       29     yes   no   \n",
        "2   33  entrepreneur   married  secondary      no        2     yes  yes   \n",
        "3   47   blue-collar   married    unknown      no     1506     yes   no   \n",
        "4   33       unknown    single    unknown      no        1      no   no   \n",
        "5   35    management   married   tertiary      no      231     yes   no   \n",
        "6   28    management    single   tertiary      no      447     yes  yes   \n",
        "7   42  entrepreneur  divorced   tertiary     yes        2     yes   no   \n",
        "8   58       retired   married    primary      no      121     yes   no   \n",
        "9   43    technician    single  secondary      no      593     yes   no   \n",
        "\n",
        "   contact  day month  duration  campaign  pdays  previous poutcome   y  \n",
        "0  unknown    5   may       261         1     -1         0  unknown  no  \n",
        "1  unknown    5   may       151         1     -1         0  unknown  no  \n",
        "2  unknown    5   may        76         1     -1         0  unknown  no  \n",
        "3  unknown    5   may        92         1     -1         0  unknown  no  \n",
        "4  unknown    5   may       198         1     -1         0  unknown  no  \n",
        "5  unknown    5   may       139         1     -1         0  unknown  no  \n",
        "6  unknown    5   may       217         1     -1         0  unknown  no  \n",
        "7  unknown    5   may       380         1     -1         0  unknown  no  \n",
        "8  unknown    5   may        50         1     -1         0  unknown  no  \n",
        "9  unknown    5   may        55         1     -1         0  unknown  no  "
       ]
      }
     ],
     "prompt_number": 4
    },
    {
     "cell_type": "markdown",
     "metadata": {},
     "source": [
      "### Let's conver the categorical variables "
     ]
    },
    {
     "cell_type": "code",
     "collapsed": false,
     "input": [
      "label_encoder = preprocessing.LabelEncoder()\n",
      "for field in ('job', 'education', 'default', 'housing', 'loan', 'contact', 'month', 'poutcome', 'marital'):\n",
      "    df[field] = label_encoder.fit_transform(df[field])"
     ],
     "language": "python",
     "metadata": {},
     "outputs": [],
     "prompt_number": 5
    },
    {
     "cell_type": "code",
     "collapsed": false,
     "input": [
      "y = df.y\n",
      "del df['y']"
     ],
     "language": "python",
     "metadata": {},
     "outputs": [],
     "prompt_number": 6
    },
    {
     "cell_type": "code",
     "collapsed": false,
     "input": [
      "df.head()"
     ],
     "language": "python",
     "metadata": {},
     "outputs": [
      {
       "html": [
        "<div style=\"max-height:1000px;max-width:1500px;overflow:auto;\">\n",
        "<table border=\"1\" class=\"dataframe\">\n",
        "  <thead>\n",
        "    <tr style=\"text-align: right;\">\n",
        "      <th></th>\n",
        "      <th>age</th>\n",
        "      <th>job</th>\n",
        "      <th>marital</th>\n",
        "      <th>education</th>\n",
        "      <th>default</th>\n",
        "      <th>balance</th>\n",
        "      <th>housing</th>\n",
        "      <th>loan</th>\n",
        "      <th>contact</th>\n",
        "      <th>day</th>\n",
        "      <th>month</th>\n",
        "      <th>duration</th>\n",
        "      <th>campaign</th>\n",
        "      <th>pdays</th>\n",
        "      <th>previous</th>\n",
        "      <th>poutcome</th>\n",
        "    </tr>\n",
        "  </thead>\n",
        "  <tbody>\n",
        "    <tr>\n",
        "      <th>0</th>\n",
        "      <td> 58</td>\n",
        "      <td>  4</td>\n",
        "      <td> 1</td>\n",
        "      <td> 2</td>\n",
        "      <td> 0</td>\n",
        "      <td> 2143</td>\n",
        "      <td> 1</td>\n",
        "      <td> 0</td>\n",
        "      <td> 2</td>\n",
        "      <td> 5</td>\n",
        "      <td> 8</td>\n",
        "      <td> 261</td>\n",
        "      <td> 1</td>\n",
        "      <td>-1</td>\n",
        "      <td> 0</td>\n",
        "      <td> 3</td>\n",
        "    </tr>\n",
        "    <tr>\n",
        "      <th>1</th>\n",
        "      <td> 44</td>\n",
        "      <td>  9</td>\n",
        "      <td> 2</td>\n",
        "      <td> 1</td>\n",
        "      <td> 0</td>\n",
        "      <td>   29</td>\n",
        "      <td> 1</td>\n",
        "      <td> 0</td>\n",
        "      <td> 2</td>\n",
        "      <td> 5</td>\n",
        "      <td> 8</td>\n",
        "      <td> 151</td>\n",
        "      <td> 1</td>\n",
        "      <td>-1</td>\n",
        "      <td> 0</td>\n",
        "      <td> 3</td>\n",
        "    </tr>\n",
        "    <tr>\n",
        "      <th>2</th>\n",
        "      <td> 33</td>\n",
        "      <td>  2</td>\n",
        "      <td> 1</td>\n",
        "      <td> 1</td>\n",
        "      <td> 0</td>\n",
        "      <td>    2</td>\n",
        "      <td> 1</td>\n",
        "      <td> 1</td>\n",
        "      <td> 2</td>\n",
        "      <td> 5</td>\n",
        "      <td> 8</td>\n",
        "      <td>  76</td>\n",
        "      <td> 1</td>\n",
        "      <td>-1</td>\n",
        "      <td> 0</td>\n",
        "      <td> 3</td>\n",
        "    </tr>\n",
        "    <tr>\n",
        "      <th>3</th>\n",
        "      <td> 47</td>\n",
        "      <td>  1</td>\n",
        "      <td> 1</td>\n",
        "      <td> 3</td>\n",
        "      <td> 0</td>\n",
        "      <td> 1506</td>\n",
        "      <td> 1</td>\n",
        "      <td> 0</td>\n",
        "      <td> 2</td>\n",
        "      <td> 5</td>\n",
        "      <td> 8</td>\n",
        "      <td>  92</td>\n",
        "      <td> 1</td>\n",
        "      <td>-1</td>\n",
        "      <td> 0</td>\n",
        "      <td> 3</td>\n",
        "    </tr>\n",
        "    <tr>\n",
        "      <th>4</th>\n",
        "      <td> 33</td>\n",
        "      <td> 11</td>\n",
        "      <td> 2</td>\n",
        "      <td> 3</td>\n",
        "      <td> 0</td>\n",
        "      <td>    1</td>\n",
        "      <td> 0</td>\n",
        "      <td> 0</td>\n",
        "      <td> 2</td>\n",
        "      <td> 5</td>\n",
        "      <td> 8</td>\n",
        "      <td> 198</td>\n",
        "      <td> 1</td>\n",
        "      <td>-1</td>\n",
        "      <td> 0</td>\n",
        "      <td> 3</td>\n",
        "    </tr>\n",
        "  </tbody>\n",
        "</table>\n",
        "</div>"
       ],
       "metadata": {},
       "output_type": "pyout",
       "prompt_number": 7,
       "text": [
        "   age  job  marital  education  default  balance  housing  loan  contact  \\\n",
        "0   58    4        1          2        0     2143        1     0        2   \n",
        "1   44    9        2          1        0       29        1     0        2   \n",
        "2   33    2        1          1        0        2        1     1        2   \n",
        "3   47    1        1          3        0     1506        1     0        2   \n",
        "4   33   11        2          3        0        1        0     0        2   \n",
        "\n",
        "   day  month  duration  campaign  pdays  previous  poutcome  \n",
        "0    5      8       261         1     -1         0         3  \n",
        "1    5      8       151         1     -1         0         3  \n",
        "2    5      8        76         1     -1         0         3  \n",
        "3    5      8        92         1     -1         0         3  \n",
        "4    5      8       198         1     -1         0         3  "
       ]
      }
     ],
     "prompt_number": 7
    },
    {
     "cell_type": "markdown",
     "metadata": {},
     "source": [
      "The variables are all numeric but they differ in terms of quantity, let's normalize them."
     ]
    },
    {
     "cell_type": "markdown",
     "metadata": {},
     "source": [
      "### Normalization of Features"
     ]
    },
    {
     "cell_type": "code",
     "collapsed": false,
     "input": [
      "standard_scaler = preprocessing.StandardScaler()"
     ],
     "language": "python",
     "metadata": {},
     "outputs": [],
     "prompt_number": 8
    },
    {
     "cell_type": "code",
     "collapsed": false,
     "input": [
      "for field in df.columns:\n",
      "    df[field] = standard_scaler.fit_transform(df[field])"
     ],
     "language": "python",
     "metadata": {},
     "outputs": [],
     "prompt_number": 9
    },
    {
     "cell_type": "code",
     "collapsed": false,
     "input": [
      "X = df.as_matrix()\n",
      "print(X.shape, y.shape)"
     ],
     "language": "python",
     "metadata": {},
     "outputs": [
      {
       "output_type": "stream",
       "stream": "stdout",
       "text": [
        "((45211, 16), (45211,))\n"
       ]
      }
     ],
     "prompt_number": 10
    },
    {
     "cell_type": "code",
     "collapsed": false,
     "input": [
      "feature_correlations = np.dot(X.T, X)\n",
      "feature_correlations /= np.max(feature_correlations)"
     ],
     "language": "python",
     "metadata": {},
     "outputs": [],
     "prompt_number": 11
    },
    {
     "cell_type": "code",
     "collapsed": false,
     "input": [
      "feature_correlations_df = pd.DataFrame.from_records(feature_correlations, columns=df.columns)"
     ],
     "language": "python",
     "metadata": {},
     "outputs": [],
     "prompt_number": 12
    },
    {
     "cell_type": "code",
     "collapsed": false,
     "input": [
      "plt.figure(figsize=(16, 12))\n",
      "sns.heatmap(feature_correlations_df, cmap=\"BuGn\");\n",
      "plt.title('Feature Correlations across observations');"
     ],
     "language": "python",
     "metadata": {},
     "outputs": [
      {
       "metadata": {},
       "output_type": "display_data",
       "png": "[encoded data removed]",
       "text": [
        "<matplotlib.figure.Figure at 0x10a2ce1d0>"
       ]
      }
     ],
     "prompt_number": 13
    },
    {
     "cell_type": "markdown",
     "metadata": {},
     "source": [
      "We could take a look at how the fature are correlated to each other. Some of the fatures are somehow correlated(`age`, `job`, `marital`, `education`), PCA could be used an efficient feature extraction method to remove the correlations in the dataset and \n",
      "choose the eigenvectors that capture the most of the information. We could also use the best `k` features using `feature_selection` submodule in scikit-learn to improve the feature extraction a little bit better. Lastly, feature union accepts a number of steps to parallelize and accepts a `n_jobs` parameter to parallelize the feature extraction methods. "
     ]
    },
    {
     "cell_type": "code",
     "collapsed": false,
     "input": [
      "pca = decomposition.PCA(n_components=2)\n",
      "k_best_selection = feature_selection.SelectKBest(k=10)\n",
      "#kernel_pca = decomposition.KernelPCA(n_components=3)\n",
      "feature_union = pipeline.FeatureUnion([(\"pca\", pca), \n",
      "                                       (\"k_best_selection\", k_best_selection), \n",
      "                                       #(\"kernel_pca\", kernel_pca)\n",
      "                                      ], \n",
      "                                      n_jobs=4)"
     ],
     "language": "python",
     "metadata": {},
     "outputs": [],
     "prompt_number": 14
    },
    {
     "cell_type": "code",
     "collapsed": false,
     "input": [
      "feature_union"
     ],
     "language": "python",
     "metadata": {},
     "outputs": [
      {
       "metadata": {},
       "output_type": "pyout",
       "prompt_number": 15,
       "text": [
        "FeatureUnion(n_jobs=4,\n",
        "       transformer_list=[('pca', PCA(copy=True, n_components=2, whiten=False)), ('k_best_selection', SelectKBest(k=10, score_func=<function f_classif at 0x1097077d0>))],\n",
        "       transformer_weights=None)"
       ]
      }
     ],
     "prompt_number": 15
    },
    {
     "cell_type": "code",
     "collapsed": false,
     "input": [
      "feature_union = feature_union.fit(X, y)"
     ],
     "language": "python",
     "metadata": {},
     "outputs": [],
     "prompt_number": 16
    },
    {
     "cell_type": "code",
     "collapsed": false,
     "input": [
      "features = feature_union.transform(X)"
     ],
     "language": "python",
     "metadata": {},
     "outputs": [],
     "prompt_number": 17
    },
    {
     "cell_type": "code",
     "collapsed": false,
     "input": [
      "selected_feature_correlations = np.dot(features.T, features)\n",
      "selected_feature_correlations /= np.max(selected_feature_correlations)"
     ],
     "language": "python",
     "metadata": {},
     "outputs": [],
     "prompt_number": 18
    },
    {
     "cell_type": "code",
     "collapsed": false,
     "input": [
      "plt.figure(figsize=(16, 12))\n",
      "sns.heatmap(selected_feature_correlations, cmap=\"BuGn\");"
     ],
     "language": "python",
     "metadata": {},
     "outputs": [
      {
       "metadata": {},
       "output_type": "display_data",
       "png": "[encoded data removed]",
       "text": [
        "<matplotlib.figure.Figure at 0x10ab6c5d0>"
       ]
      }
     ],
     "prompt_number": 19
    },
    {
     "cell_type": "code",
     "collapsed": false,
     "input": [
      "X_train, X_test, y_train, y_test = cross_validation.train_test_split(X, y, test_size=.25, random_state=1)"
     ],
     "language": "python",
     "metadata": {},
     "outputs": [],
     "prompt_number": 20
    },
    {
     "cell_type": "code",
     "collapsed": false,
     "input": [
      "features_train, features_test, y_train, y_test = cross_validation.train_test_split(features, y, test_size=.25, random_state=1)"
     ],
     "language": "python",
     "metadata": {},
     "outputs": [],
     "prompt_number": 21
    },
    {
     "cell_type": "code",
     "collapsed": false,
     "input": [
      "clf = linear_model.LogisticRegression(C=100, fit_intercept=True)\n",
      "clf = ensemble.AdaBoostClassifier(n_estimators=1000)\n",
      "clf.fit(X_train, y_train)"
     ],
     "language": "python",
     "metadata": {},
     "outputs": [
      {
       "metadata": {},
       "output_type": "pyout",
       "prompt_number": 22,
       "text": [
        "AdaBoostClassifier(algorithm='SAMME.R', base_estimator=None,\n",
        "          learning_rate=1.0, n_estimators=1000, random_state=None)"
       ]
      }
     ],
     "prompt_number": 22
    },
    {
     "cell_type": "code",
     "collapsed": false,
     "input": [
      "clf.score(X_test, y_test)"
     ],
     "language": "python",
     "metadata": {},
     "outputs": [
      {
       "metadata": {},
       "output_type": "pyout",
       "prompt_number": 23,
       "text": [
        "0.90011501371317348"
       ]
      }
     ],
     "prompt_number": 23
    },
    {
     "cell_type": "code",
     "collapsed": false,
     "input": [
      "clf.fit(features_train, y_train)\n",
      "clf.score(features_test, y_test)"
     ],
     "language": "python",
     "metadata": {},
     "outputs": [
      {
       "metadata": {},
       "output_type": "pyout",
       "prompt_number": 24,
       "text": [
        "0.90126515084490844"
       ]
      }
     ],
     "prompt_number": 24
    },
    {
     "cell_type": "markdown",
     "metadata": {},
     "source": [
      "This is not guaranteed to always perform better than the original classifier, but it is very easy to apply different feature extraction methods on the raw dataset and possibly parallelize this feature extraction as well. After extracting the features, \n",
      "you could easily concatenate the results and feed to your favorite classifier. As the feature extraction methods are separately operate on the dataset and as long as you have multi-core machine, you could easily give `n_jobs` to number of your cores in your machine to parallelize the feature extraction method so that you do not have to wait the total time it takes to run all of the feature extraction but only the one that takes the most computation time. "
     ]
    },
    {
     "cell_type": "markdown",
     "metadata": {},
     "source": [
      "Since the feature extraction or engineering is one of the most important thing for how successful a machine learning system performs, feature unions provide a broader selection of features to be chosen and also to be used by the classifier. The more is not always the better, but we could always choose best `k` features on top of those and possibly build a better feature set than using a particular feature set."
     ]
    }
   ],
   "metadata": {}
  }
 ]
}